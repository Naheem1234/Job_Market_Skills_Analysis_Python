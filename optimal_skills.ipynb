{
 "cells": [
  {
   "cell_type": "code",
   "execution_count": 18,
   "id": "423a71c5",
   "metadata": {},
   "outputs": [],
   "source": [
    "import ast\n",
    "import pandas as pd\n",
    "import matplotlib.pyplot as plt\n",
    "import seaborn as sns\n",
    "\n",
    "df = pd.read_csv(r'C:\\Users\\User\\Downloads\\data_jobs.csv')\n",
    "\n",
    "df['job_posted_date'] = pd.to_datetime(df['job_posted_date'])\n",
    "\n",
    "def to_list(skill_list):\n",
    "    if pd.notna(skill_list):\n",
    "        return ast.literal_eval(skill_list)\n",
    "    \n",
    "df['job_skills'] = df['job_skills'].apply(to_list)\n",
    "df_india = df[df['job_country'] == 'India'].copy()\n",
    "df_india_da = df_india[df_india['job_title_short'] == 'Data Analyst']"
   ]
  },
  {
   "cell_type": "code",
   "execution_count": 19,
   "id": "dad5e197",
   "metadata": {},
   "outputs": [
    {
     "data": {
      "application/vnd.microsoft.datawrangler.viewer.v0+json": {
       "columns": [
        {
         "name": "job_skills",
         "rawType": "object",
         "type": "string"
        },
        {
         "name": "skill_count",
         "rawType": "int64",
         "type": "integer"
        },
        {
         "name": "median_salary",
         "rawType": "float64",
         "type": "float"
        },
        {
         "name": "skill_percent",
         "rawType": "float64",
         "type": "float"
        }
       ],
       "ref": "2c186be3-8099-4ddb-a4bd-21aee0df46cd",
       "rows": [
        [
         "sql",
         "46",
         "96050.0",
         "48.93617021276596"
        ],
        [
         "excel",
         "39",
         "98500.0",
         "41.48936170212766"
        ],
        [
         "python",
         "36",
         "96050.0",
         "38.297872340425535"
        ],
        [
         "tableau",
         "20",
         "108087.5",
         "21.27659574468085"
        ],
        [
         "r",
         "18",
         "79200.0",
         "19.148936170212767"
        ],
        [
         "power bi",
         "17",
         "111175.0",
         "18.085106382978726"
        ],
        [
         "azure",
         "15",
         "93600.0",
         "15.957446808510639"
        ],
        [
         "aws",
         "12",
         "79200.0",
         "12.76595744680851"
        ],
        [
         "oracle",
         "11",
         "79200.0",
         "11.702127659574469"
        ],
        [
         "spark",
         "11",
         "111175.0",
         "11.702127659574469"
        ],
        [
         "looker",
         "10",
         "111175.0",
         "10.638297872340425"
        ],
        [
         "powerpoint",
         "10",
         "111175.0",
         "10.638297872340425"
        ],
        [
         "word",
         "10",
         "82092.75",
         "10.638297872340425"
        ],
        [
         "flow",
         "6",
         "102750.0",
         "6.382978723404255"
        ],
        [
         "mongodb",
         "6",
         "163782.0",
         "6.382978723404255"
        ],
        [
         "sql server",
         "5",
         "72000.0",
         "5.319148936170213"
        ],
        [
         "hadoop",
         "5",
         "79200.0",
         "5.319148936170213"
        ],
        [
         "redshift",
         "5",
         "79200.0",
         "5.319148936170213"
        ]
       ],
       "shape": {
        "columns": 3,
        "rows": 18
       }
      },
      "text/html": [
       "<div>\n",
       "<style scoped>\n",
       "    .dataframe tbody tr th:only-of-type {\n",
       "        vertical-align: middle;\n",
       "    }\n",
       "\n",
       "    .dataframe tbody tr th {\n",
       "        vertical-align: top;\n",
       "    }\n",
       "\n",
       "    .dataframe thead th {\n",
       "        text-align: right;\n",
       "    }\n",
       "</style>\n",
       "<table border=\"1\" class=\"dataframe\">\n",
       "  <thead>\n",
       "    <tr style=\"text-align: right;\">\n",
       "      <th></th>\n",
       "      <th>skill_count</th>\n",
       "      <th>median_salary</th>\n",
       "      <th>skill_percent</th>\n",
       "    </tr>\n",
       "    <tr>\n",
       "      <th>job_skills</th>\n",
       "      <th></th>\n",
       "      <th></th>\n",
       "      <th></th>\n",
       "    </tr>\n",
       "  </thead>\n",
       "  <tbody>\n",
       "    <tr>\n",
       "      <th>sql</th>\n",
       "      <td>46</td>\n",
       "      <td>96050.00</td>\n",
       "      <td>48.936170</td>\n",
       "    </tr>\n",
       "    <tr>\n",
       "      <th>excel</th>\n",
       "      <td>39</td>\n",
       "      <td>98500.00</td>\n",
       "      <td>41.489362</td>\n",
       "    </tr>\n",
       "    <tr>\n",
       "      <th>python</th>\n",
       "      <td>36</td>\n",
       "      <td>96050.00</td>\n",
       "      <td>38.297872</td>\n",
       "    </tr>\n",
       "    <tr>\n",
       "      <th>tableau</th>\n",
       "      <td>20</td>\n",
       "      <td>108087.50</td>\n",
       "      <td>21.276596</td>\n",
       "    </tr>\n",
       "    <tr>\n",
       "      <th>r</th>\n",
       "      <td>18</td>\n",
       "      <td>79200.00</td>\n",
       "      <td>19.148936</td>\n",
       "    </tr>\n",
       "    <tr>\n",
       "      <th>power bi</th>\n",
       "      <td>17</td>\n",
       "      <td>111175.00</td>\n",
       "      <td>18.085106</td>\n",
       "    </tr>\n",
       "    <tr>\n",
       "      <th>azure</th>\n",
       "      <td>15</td>\n",
       "      <td>93600.00</td>\n",
       "      <td>15.957447</td>\n",
       "    </tr>\n",
       "    <tr>\n",
       "      <th>aws</th>\n",
       "      <td>12</td>\n",
       "      <td>79200.00</td>\n",
       "      <td>12.765957</td>\n",
       "    </tr>\n",
       "    <tr>\n",
       "      <th>oracle</th>\n",
       "      <td>11</td>\n",
       "      <td>79200.00</td>\n",
       "      <td>11.702128</td>\n",
       "    </tr>\n",
       "    <tr>\n",
       "      <th>spark</th>\n",
       "      <td>11</td>\n",
       "      <td>111175.00</td>\n",
       "      <td>11.702128</td>\n",
       "    </tr>\n",
       "    <tr>\n",
       "      <th>looker</th>\n",
       "      <td>10</td>\n",
       "      <td>111175.00</td>\n",
       "      <td>10.638298</td>\n",
       "    </tr>\n",
       "    <tr>\n",
       "      <th>powerpoint</th>\n",
       "      <td>10</td>\n",
       "      <td>111175.00</td>\n",
       "      <td>10.638298</td>\n",
       "    </tr>\n",
       "    <tr>\n",
       "      <th>word</th>\n",
       "      <td>10</td>\n",
       "      <td>82092.75</td>\n",
       "      <td>10.638298</td>\n",
       "    </tr>\n",
       "    <tr>\n",
       "      <th>flow</th>\n",
       "      <td>6</td>\n",
       "      <td>102750.00</td>\n",
       "      <td>6.382979</td>\n",
       "    </tr>\n",
       "    <tr>\n",
       "      <th>mongodb</th>\n",
       "      <td>6</td>\n",
       "      <td>163782.00</td>\n",
       "      <td>6.382979</td>\n",
       "    </tr>\n",
       "    <tr>\n",
       "      <th>sql server</th>\n",
       "      <td>5</td>\n",
       "      <td>72000.00</td>\n",
       "      <td>5.319149</td>\n",
       "    </tr>\n",
       "    <tr>\n",
       "      <th>hadoop</th>\n",
       "      <td>5</td>\n",
       "      <td>79200.00</td>\n",
       "      <td>5.319149</td>\n",
       "    </tr>\n",
       "    <tr>\n",
       "      <th>redshift</th>\n",
       "      <td>5</td>\n",
       "      <td>79200.00</td>\n",
       "      <td>5.319149</td>\n",
       "    </tr>\n",
       "  </tbody>\n",
       "</table>\n",
       "</div>"
      ],
      "text/plain": [
       "            skill_count  median_salary  skill_percent\n",
       "job_skills                                           \n",
       "sql                  46       96050.00      48.936170\n",
       "excel                39       98500.00      41.489362\n",
       "python               36       96050.00      38.297872\n",
       "tableau              20      108087.50      21.276596\n",
       "r                    18       79200.00      19.148936\n",
       "power bi             17      111175.00      18.085106\n",
       "azure                15       93600.00      15.957447\n",
       "aws                  12       79200.00      12.765957\n",
       "oracle               11       79200.00      11.702128\n",
       "spark                11      111175.00      11.702128\n",
       "looker               10      111175.00      10.638298\n",
       "powerpoint           10      111175.00      10.638298\n",
       "word                 10       82092.75      10.638298\n",
       "flow                  6      102750.00       6.382979\n",
       "mongodb               6      163782.00       6.382979\n",
       "sql server            5       72000.00       5.319149\n",
       "hadoop                5       79200.00       5.319149\n",
       "redshift              5       79200.00       5.319149"
      ]
     },
     "execution_count": 19,
     "metadata": {},
     "output_type": "execute_result"
    }
   ],
   "source": [
    "df_india_da = df_india_da.dropna(subset= ['salary_year_avg'])\n",
    "df_da_exploded = df_india_da.explode('job_skills')\n",
    "df_da_skills = df_da_exploded.groupby('job_skills')['salary_year_avg'].agg(['count', 'median']).sort_values(by= 'count', ascending= False)\n",
    "df_da_skills = df_da_skills.rename(columns={'count': 'skill_count', 'median': 'median_salary'})\n",
    "df_da_total = len(df_india_da)\n",
    "df_da_skills['skill_percent'] = (df_da_skills['skill_count']/df_da_total)*100\n",
    "df_da_skills = df_da_skills[df_da_skills['skill_percent'] > 0]\n",
    "skill_limit = 5\n",
    "df_da_skills_high_demand = df_da_skills[df_da_skills['skill_percent'] > skill_limit]\n",
    "df_da_skills_high_demand"
   ]
  },
  {
   "cell_type": "code",
   "execution_count": 20,
   "id": "5e53be88",
   "metadata": {},
   "outputs": [
    {
     "data": {
      "text/plain": [
       "{'analyst_tools': ['tableau',\n",
       "  'nuix',\n",
       "  'looker',\n",
       "  'datarobot',\n",
       "  'spss',\n",
       "  'splunk',\n",
       "  'alteryx',\n",
       "  'excel',\n",
       "  'power bi',\n",
       "  'sharepoint',\n",
       "  'ssis',\n",
       "  'powerpoint',\n",
       "  'qlik',\n",
       "  'powerbi',\n",
       "  'ssrs',\n",
       "  'sap',\n",
       "  'cognos',\n",
       "  'msaccess',\n",
       "  'sheets',\n",
       "  'esquisse',\n",
       "  'sas',\n",
       "  'microstrategy',\n",
       "  'word',\n",
       "  'ms access',\n",
       "  'visio',\n",
       "  'outlook',\n",
       "  'dax',\n",
       "  'spreadsheet'],\n",
       " 'programming': ['c#',\n",
       "  'bash',\n",
       "  'mongo',\n",
       "  'objective-c',\n",
       "  'dart',\n",
       "  'sql',\n",
       "  'typescript',\n",
       "  'css',\n",
       "  'solidity',\n",
       "  'lua',\n",
       "  'groovy',\n",
       "  'kotlin',\n",
       "  'scala',\n",
       "  'f#',\n",
       "  'go',\n",
       "  'r',\n",
       "  'golang',\n",
       "  'java',\n",
       "  'lisp',\n",
       "  'erlang',\n",
       "  'python',\n",
       "  'elixir',\n",
       "  'no-sql',\n",
       "  'php',\n",
       "  'julia',\n",
       "  'fortran',\n",
       "  't-sql',\n",
       "  'html',\n",
       "  'clojure',\n",
       "  'mongodb',\n",
       "  'sas',\n",
       "  'ruby',\n",
       "  'nosql',\n",
       "  'javascript',\n",
       "  'shell',\n",
       "  'assembly',\n",
       "  'c',\n",
       "  'delphi',\n",
       "  'visualbasic',\n",
       "  'swift',\n",
       "  'matlab',\n",
       "  'c++',\n",
       "  'vba',\n",
       "  'apl',\n",
       "  'visual basic',\n",
       "  'vb.net',\n",
       "  'cobol',\n",
       "  'pascal',\n",
       "  'perl',\n",
       "  'sass',\n",
       "  'crystal',\n",
       "  'ocaml',\n",
       "  'rust',\n",
       "  'powershell',\n",
       "  'haskell'],\n",
       " 'cloud': ['openstack',\n",
       "  'snowflake',\n",
       "  'heroku',\n",
       "  'ovh',\n",
       "  'linode',\n",
       "  'databricks',\n",
       "  'watson',\n",
       "  'aurora',\n",
       "  'redshift',\n",
       "  'bigquery',\n",
       "  'oracle',\n",
       "  'gcp',\n",
       "  'vmware',\n",
       "  'colocation',\n",
       "  'aws',\n",
       "  'digitalocean',\n",
       "  'ibm cloud',\n",
       "  'firebase',\n",
       "  'azure'],\n",
       " 'libraries': ['shogun',\n",
       "  'ggplot2',\n",
       "  'dplyr',\n",
       "  'xamarin',\n",
       "  'dlib',\n",
       "  'flutter',\n",
       "  'jupyter',\n",
       "  'seaborn',\n",
       "  'pyspark',\n",
       "  'gdpr',\n",
       "  'theano',\n",
       "  'qt',\n",
       "  'plotly',\n",
       "  'cordova',\n",
       "  'chainer',\n",
       "  'mlpack',\n",
       "  'keras',\n",
       "  'pytorch',\n",
       "  'airflow',\n",
       "  'tensorflow',\n",
       "  'ionic',\n",
       "  'huggingface',\n",
       "  'rshiny',\n",
       "  'react',\n",
       "  'capacitor',\n",
       "  'numpy',\n",
       "  'kafka',\n",
       "  'graphql',\n",
       "  'electron',\n",
       "  'selenium',\n",
       "  'spring',\n",
       "  'tidyr',\n",
       "  'matplotlib',\n",
       "  'nltk',\n",
       "  'gtx',\n",
       "  'spark',\n",
       "  'tidyverse',\n",
       "  'hugging face',\n",
       "  'opencv',\n",
       "  'mxnet',\n",
       "  'pandas',\n",
       "  'hadoop',\n",
       "  'scikit-learn',\n",
       "  'mlr'],\n",
       " 'other': ['unity',\n",
       "  'pulumi',\n",
       "  'jenkins',\n",
       "  'flow',\n",
       "  'ansible',\n",
       "  'gitlab',\n",
       "  'yarn',\n",
       "  'svn',\n",
       "  'homebrew',\n",
       "  'atlassian',\n",
       "  'unreal',\n",
       "  'git',\n",
       "  'chef',\n",
       "  'npm',\n",
       "  'codecommit',\n",
       "  'bitbucket',\n",
       "  'docker',\n",
       "  'terminal',\n",
       "  'puppet',\n",
       "  'kubernetes',\n",
       "  'terraform',\n",
       "  'github'],\n",
       " 'databases': ['cassandra',\n",
       "  'neo4j',\n",
       "  'dynamodb',\n",
       "  'mysql',\n",
       "  'mongodb',\n",
       "  'sqlite',\n",
       "  'couchdb',\n",
       "  'sqlserver',\n",
       "  'firestore',\n",
       "  'redis',\n",
       "  'sql server',\n",
       "  'elasticsearch',\n",
       "  'firebase',\n",
       "  'db2',\n",
       "  'couchbase',\n",
       "  'mariadb',\n",
       "  'postgresql'],\n",
       " 'os': ['linux',\n",
       "  'redhat',\n",
       "  'windows',\n",
       "  'arch',\n",
       "  'macos',\n",
       "  'unix',\n",
       "  'wsl',\n",
       "  'kali',\n",
       "  'centos',\n",
       "  'debian',\n",
       "  'fedora',\n",
       "  'suse',\n",
       "  'ubuntu'],\n",
       " 'async': ['planner',\n",
       "  'trello',\n",
       "  'workfront',\n",
       "  'jira',\n",
       "  'airtable',\n",
       "  'monday.com',\n",
       "  'confluence',\n",
       "  'clickup',\n",
       "  'wimi',\n",
       "  'smartsheet',\n",
       "  'dingtalk',\n",
       "  'microsoft lists',\n",
       "  'notion',\n",
       "  'wrike',\n",
       "  'asana'],\n",
       " 'webframeworks': ['drupal',\n",
       "  'asp.netcore',\n",
       "  'laravel',\n",
       "  'blazor',\n",
       "  'deno',\n",
       "  'ruby on rails',\n",
       "  'vue.js',\n",
       "  'symfony',\n",
       "  'svelte',\n",
       "  'angular.js',\n",
       "  'angular',\n",
       "  'fastify',\n",
       "  'node.js',\n",
       "  'gatsby',\n",
       "  'next.js',\n",
       "  'rubyon rails',\n",
       "  'flask',\n",
       "  'play framework',\n",
       "  'ruby',\n",
       "  'node',\n",
       "  'vue',\n",
       "  'jquery',\n",
       "  'fastapi',\n",
       "  'nuxt.js',\n",
       "  'asp.net',\n",
       "  'asp.net core',\n",
       "  'react.js',\n",
       "  'express',\n",
       "  'ember.js',\n",
       "  'phoenix',\n",
       "  'django'],\n",
       " 'sync': ['symphony',\n",
       "  'slack',\n",
       "  'twilio',\n",
       "  'mattermost',\n",
       "  'microsoft teams',\n",
       "  'zoom',\n",
       "  'rocketchat',\n",
       "  'webex',\n",
       "  'wire',\n",
       "  'unify',\n",
       "  'ringcentral',\n",
       "  'google chat']}"
      ]
     },
     "execution_count": 20,
     "metadata": {},
     "output_type": "execute_result"
    }
   ],
   "source": [
    "df_technology = df['job_type_skills'].copy()\n",
    "\n",
    "# remove duplicates\n",
    "df_technology = df_technology.drop_duplicates()\n",
    "\n",
    "# remove NaN values\n",
    "df_technology = df_technology.dropna()\n",
    "\n",
    "# combine all dictionaries into one\n",
    "technology_dict = {}\n",
    "for row in df_technology:\n",
    "    row_dict = ast.literal_eval(row)  # convert string to dictionary\n",
    "    for key, value in row_dict.items():\n",
    "        if key in technology_dict:  # if key already exists in technology_dict, add value to existing value\n",
    "            technology_dict[key] += value\n",
    "        else:                       # if key does not exist in technology_dict, add key and value\n",
    "            technology_dict[key] = value\n",
    "\n",
    "# remove duplicates by converting values to set then back to list\n",
    "for key, value in technology_dict.items():\n",
    "    technology_dict[key] = list(set(value))\n",
    "\n",
    "technology_dict"
   ]
  },
  {
   "cell_type": "code",
   "execution_count": 21,
   "id": "2d137a8e",
   "metadata": {},
   "outputs": [
    {
     "data": {
      "application/vnd.microsoft.datawrangler.viewer.v0+json": {
       "columns": [
        {
         "name": "index",
         "rawType": "int64",
         "type": "integer"
        },
        {
         "name": "technology",
         "rawType": "object",
         "type": "string"
        },
        {
         "name": "skills",
         "rawType": "object",
         "type": "string"
        }
       ],
       "ref": "1711b067-c020-48b3-aa38-6457208101ff",
       "rows": [
        [
         "0",
         "analyst_tools",
         "tableau"
        ],
        [
         "0",
         "analyst_tools",
         "nuix"
        ],
        [
         "0",
         "analyst_tools",
         "looker"
        ],
        [
         "0",
         "analyst_tools",
         "datarobot"
        ],
        [
         "0",
         "analyst_tools",
         "spss"
        ],
        [
         "0",
         "analyst_tools",
         "splunk"
        ],
        [
         "0",
         "analyst_tools",
         "alteryx"
        ],
        [
         "0",
         "analyst_tools",
         "excel"
        ],
        [
         "0",
         "analyst_tools",
         "power bi"
        ],
        [
         "0",
         "analyst_tools",
         "sharepoint"
        ],
        [
         "0",
         "analyst_tools",
         "ssis"
        ],
        [
         "0",
         "analyst_tools",
         "powerpoint"
        ],
        [
         "0",
         "analyst_tools",
         "qlik"
        ],
        [
         "0",
         "analyst_tools",
         "powerbi"
        ],
        [
         "0",
         "analyst_tools",
         "ssrs"
        ],
        [
         "0",
         "analyst_tools",
         "sap"
        ],
        [
         "0",
         "analyst_tools",
         "cognos"
        ],
        [
         "0",
         "analyst_tools",
         "msaccess"
        ],
        [
         "0",
         "analyst_tools",
         "sheets"
        ],
        [
         "0",
         "analyst_tools",
         "esquisse"
        ],
        [
         "0",
         "analyst_tools",
         "sas"
        ],
        [
         "0",
         "analyst_tools",
         "microstrategy"
        ],
        [
         "0",
         "analyst_tools",
         "word"
        ],
        [
         "0",
         "analyst_tools",
         "ms access"
        ],
        [
         "0",
         "analyst_tools",
         "visio"
        ],
        [
         "0",
         "analyst_tools",
         "outlook"
        ],
        [
         "0",
         "analyst_tools",
         "dax"
        ],
        [
         "0",
         "analyst_tools",
         "spreadsheet"
        ],
        [
         "1",
         "programming",
         "c#"
        ],
        [
         "1",
         "programming",
         "bash"
        ],
        [
         "1",
         "programming",
         "mongo"
        ],
        [
         "1",
         "programming",
         "objective-c"
        ],
        [
         "1",
         "programming",
         "dart"
        ],
        [
         "1",
         "programming",
         "sql"
        ],
        [
         "1",
         "programming",
         "typescript"
        ],
        [
         "1",
         "programming",
         "css"
        ],
        [
         "1",
         "programming",
         "solidity"
        ],
        [
         "1",
         "programming",
         "lua"
        ],
        [
         "1",
         "programming",
         "groovy"
        ],
        [
         "1",
         "programming",
         "kotlin"
        ],
        [
         "1",
         "programming",
         "scala"
        ],
        [
         "1",
         "programming",
         "f#"
        ],
        [
         "1",
         "programming",
         "go"
        ],
        [
         "1",
         "programming",
         "r"
        ],
        [
         "1",
         "programming",
         "golang"
        ],
        [
         "1",
         "programming",
         "java"
        ],
        [
         "1",
         "programming",
         "lisp"
        ],
        [
         "1",
         "programming",
         "erlang"
        ],
        [
         "1",
         "programming",
         "python"
        ],
        [
         "1",
         "programming",
         "elixir"
        ]
       ],
       "shape": {
        "columns": 2,
        "rows": 256
       }
      },
      "text/html": [
       "<div>\n",
       "<style scoped>\n",
       "    .dataframe tbody tr th:only-of-type {\n",
       "        vertical-align: middle;\n",
       "    }\n",
       "\n",
       "    .dataframe tbody tr th {\n",
       "        vertical-align: top;\n",
       "    }\n",
       "\n",
       "    .dataframe thead th {\n",
       "        text-align: right;\n",
       "    }\n",
       "</style>\n",
       "<table border=\"1\" class=\"dataframe\">\n",
       "  <thead>\n",
       "    <tr style=\"text-align: right;\">\n",
       "      <th></th>\n",
       "      <th>technology</th>\n",
       "      <th>skills</th>\n",
       "    </tr>\n",
       "  </thead>\n",
       "  <tbody>\n",
       "    <tr>\n",
       "      <th>0</th>\n",
       "      <td>analyst_tools</td>\n",
       "      <td>tableau</td>\n",
       "    </tr>\n",
       "    <tr>\n",
       "      <th>0</th>\n",
       "      <td>analyst_tools</td>\n",
       "      <td>nuix</td>\n",
       "    </tr>\n",
       "    <tr>\n",
       "      <th>0</th>\n",
       "      <td>analyst_tools</td>\n",
       "      <td>looker</td>\n",
       "    </tr>\n",
       "    <tr>\n",
       "      <th>0</th>\n",
       "      <td>analyst_tools</td>\n",
       "      <td>datarobot</td>\n",
       "    </tr>\n",
       "    <tr>\n",
       "      <th>0</th>\n",
       "      <td>analyst_tools</td>\n",
       "      <td>spss</td>\n",
       "    </tr>\n",
       "    <tr>\n",
       "      <th>...</th>\n",
       "      <td>...</td>\n",
       "      <td>...</td>\n",
       "    </tr>\n",
       "    <tr>\n",
       "      <th>9</th>\n",
       "      <td>sync</td>\n",
       "      <td>webex</td>\n",
       "    </tr>\n",
       "    <tr>\n",
       "      <th>9</th>\n",
       "      <td>sync</td>\n",
       "      <td>wire</td>\n",
       "    </tr>\n",
       "    <tr>\n",
       "      <th>9</th>\n",
       "      <td>sync</td>\n",
       "      <td>unify</td>\n",
       "    </tr>\n",
       "    <tr>\n",
       "      <th>9</th>\n",
       "      <td>sync</td>\n",
       "      <td>ringcentral</td>\n",
       "    </tr>\n",
       "    <tr>\n",
       "      <th>9</th>\n",
       "      <td>sync</td>\n",
       "      <td>google chat</td>\n",
       "    </tr>\n",
       "  </tbody>\n",
       "</table>\n",
       "<p>256 rows × 2 columns</p>\n",
       "</div>"
      ],
      "text/plain": [
       "       technology       skills\n",
       "0   analyst_tools      tableau\n",
       "0   analyst_tools         nuix\n",
       "0   analyst_tools       looker\n",
       "0   analyst_tools    datarobot\n",
       "0   analyst_tools         spss\n",
       "..            ...          ...\n",
       "9            sync        webex\n",
       "9            sync         wire\n",
       "9            sync        unify\n",
       "9            sync  ringcentral\n",
       "9            sync  google chat\n",
       "\n",
       "[256 rows x 2 columns]"
      ]
     },
     "execution_count": 21,
     "metadata": {},
     "output_type": "execute_result"
    }
   ],
   "source": [
    "df_technology = pd.DataFrame(list(technology_dict.items()), columns=['technology', 'skills'])\n",
    "\n",
    "df_technology = df_technology.explode('skills')\n",
    "\n",
    "df_technology"
   ]
  },
  {
   "cell_type": "code",
   "execution_count": 22,
   "id": "65e63118",
   "metadata": {},
   "outputs": [
    {
     "data": {
      "application/vnd.microsoft.datawrangler.viewer.v0+json": {
       "columns": [
        {
         "name": "index",
         "rawType": "int64",
         "type": "integer"
        },
        {
         "name": "skill_count",
         "rawType": "int64",
         "type": "integer"
        },
        {
         "name": "median_salary",
         "rawType": "float64",
         "type": "float"
        },
        {
         "name": "skill_percent",
         "rawType": "float64",
         "type": "float"
        },
        {
         "name": "technology",
         "rawType": "object",
         "type": "string"
        },
        {
         "name": "skills",
         "rawType": "object",
         "type": "string"
        }
       ],
       "ref": "4ef01416-d71c-4a71-9734-cade21e9eb7a",
       "rows": [
        [
         "0",
         "46",
         "96050.0",
         "48.93617021276596",
         "programming",
         "sql"
        ],
        [
         "1",
         "39",
         "98500.0",
         "41.48936170212766",
         "analyst_tools",
         "excel"
        ],
        [
         "2",
         "36",
         "96050.0",
         "38.297872340425535",
         "programming",
         "python"
        ],
        [
         "3",
         "20",
         "108087.5",
         "21.27659574468085",
         "analyst_tools",
         "tableau"
        ],
        [
         "4",
         "18",
         "79200.0",
         "19.148936170212767",
         "programming",
         "r"
        ],
        [
         "5",
         "17",
         "111175.0",
         "18.085106382978726",
         "analyst_tools",
         "power bi"
        ],
        [
         "6",
         "15",
         "93600.0",
         "15.957446808510639",
         "cloud",
         "azure"
        ],
        [
         "7",
         "12",
         "79200.0",
         "12.76595744680851",
         "cloud",
         "aws"
        ],
        [
         "8",
         "11",
         "79200.0",
         "11.702127659574469",
         "cloud",
         "oracle"
        ],
        [
         "9",
         "11",
         "111175.0",
         "11.702127659574469",
         "libraries",
         "spark"
        ],
        [
         "10",
         "10",
         "111175.0",
         "10.638297872340425",
         "analyst_tools",
         "looker"
        ],
        [
         "11",
         "10",
         "111175.0",
         "10.638297872340425",
         "analyst_tools",
         "powerpoint"
        ],
        [
         "12",
         "10",
         "82092.75",
         "10.638297872340425",
         "analyst_tools",
         "word"
        ],
        [
         "13",
         "6",
         "102750.0",
         "6.382978723404255",
         "other",
         "flow"
        ],
        [
         "14",
         "6",
         "163782.0",
         "6.382978723404255",
         "programming",
         "mongodb"
        ],
        [
         "15",
         "6",
         "163782.0",
         "6.382978723404255",
         "databases",
         "mongodb"
        ],
        [
         "16",
         "5",
         "72000.0",
         "5.319148936170213",
         "databases",
         "sql server"
        ],
        [
         "17",
         "5",
         "79200.0",
         "5.319148936170213",
         "libraries",
         "hadoop"
        ],
        [
         "18",
         "5",
         "79200.0",
         "5.319148936170213",
         "cloud",
         "redshift"
        ],
        [
         "19",
         "4",
         "111175.0",
         "4.25531914893617",
         "programming",
         "go"
        ],
        [
         "20",
         "4",
         "111175.0",
         "4.25531914893617",
         "libraries",
         "pandas"
        ],
        [
         "21",
         "4",
         "111175.0",
         "4.25531914893617",
         "cloud",
         "snowflake"
        ],
        [
         "22",
         "4",
         "95187.5",
         "4.25531914893617",
         "analyst_tools",
         "sap"
        ],
        [
         "23",
         "3",
         "79200.0",
         "3.1914893617021276",
         "programming",
         "java"
        ],
        [
         "24",
         "3",
         "79200.0",
         "3.1914893617021276",
         "os",
         "unix"
        ],
        [
         "25",
         "3",
         "163782.0",
         "3.1914893617021276",
         "programming",
         "scala"
        ],
        [
         "26",
         "3",
         "79200.0",
         "3.1914893617021276",
         "programming",
         "nosql"
        ],
        [
         "27",
         "3",
         "93600.0",
         "3.1914893617021276",
         "analyst_tools",
         "sheets"
        ],
        [
         "28",
         "3",
         "53014.0",
         "3.1914893617021276",
         "other",
         "git"
        ],
        [
         "29",
         "3",
         "163782.0",
         "3.1914893617021276",
         "cloud",
         "databricks"
        ],
        [
         "30",
         "3",
         "64800.0",
         "3.1914893617021276",
         "analyst_tools",
         "alteryx"
        ],
        [
         "31",
         "3",
         "111175.0",
         "3.1914893617021276",
         "webframeworks",
         "express"
        ],
        [
         "32",
         "3",
         "102500.0",
         "3.1914893617021276",
         "cloud",
         "bigquery"
        ],
        [
         "33",
         "2",
         "66107.0",
         "2.127659574468085",
         "databases",
         "cassandra"
        ],
        [
         "34",
         "2",
         "111175.0",
         "2.127659574468085",
         "analyst_tools",
         "dax"
        ],
        [
         "35",
         "2",
         "138087.5",
         "2.127659574468085",
         "libraries",
         "airflow"
        ],
        [
         "36",
         "2",
         "83650.0",
         "2.127659574468085",
         "analyst_tools",
         "sharepoint"
        ],
        [
         "37",
         "2",
         "71900.0",
         "2.127659574468085",
         "programming",
         "vba"
        ],
        [
         "38",
         "2",
         "72000.0",
         "2.127659574468085",
         "analyst_tools",
         "ssis"
        ],
        [
         "39",
         "2",
         "107700.0",
         "2.127659574468085",
         "other",
         "jenkins"
        ],
        [
         "40",
         "2",
         "109007.0",
         "2.127659574468085",
         "programming",
         "mongo"
        ],
        [
         "41",
         "2",
         "106837.5",
         "2.127659574468085",
         "sync",
         "slack"
        ],
        [
         "42",
         "2",
         "95187.5",
         "2.127659574468085",
         "other",
         "docker"
        ],
        [
         "43",
         "2",
         "111175.0",
         "2.127659574468085",
         "libraries",
         "electron"
        ],
        [
         "44",
         "2",
         "111175.0",
         "2.127659574468085",
         "programming",
         "bash"
        ],
        [
         "45",
         "2",
         "95187.5",
         "2.127659574468085",
         "libraries",
         "plotly"
        ],
        [
         "46",
         "2",
         "114291.0",
         "2.127659574468085",
         "programming",
         "no-sql"
        ],
        [
         "47",
         "2",
         "93121.25",
         "2.127659574468085",
         "analyst_tools",
         "outlook"
        ],
        [
         "48",
         "2",
         "122100.0",
         "2.127659574468085",
         "libraries",
         "kafka"
        ],
        [
         "49",
         "2",
         "95187.5",
         "2.127659574468085",
         "other",
         "kubernetes"
        ]
       ],
       "shape": {
        "columns": 5,
        "rows": 85
       }
      },
      "text/html": [
       "<div>\n",
       "<style scoped>\n",
       "    .dataframe tbody tr th:only-of-type {\n",
       "        vertical-align: middle;\n",
       "    }\n",
       "\n",
       "    .dataframe tbody tr th {\n",
       "        vertical-align: top;\n",
       "    }\n",
       "\n",
       "    .dataframe thead th {\n",
       "        text-align: right;\n",
       "    }\n",
       "</style>\n",
       "<table border=\"1\" class=\"dataframe\">\n",
       "  <thead>\n",
       "    <tr style=\"text-align: right;\">\n",
       "      <th></th>\n",
       "      <th>skill_count</th>\n",
       "      <th>median_salary</th>\n",
       "      <th>skill_percent</th>\n",
       "      <th>technology</th>\n",
       "      <th>skills</th>\n",
       "    </tr>\n",
       "  </thead>\n",
       "  <tbody>\n",
       "    <tr>\n",
       "      <th>0</th>\n",
       "      <td>46</td>\n",
       "      <td>96050.0</td>\n",
       "      <td>48.936170</td>\n",
       "      <td>programming</td>\n",
       "      <td>sql</td>\n",
       "    </tr>\n",
       "    <tr>\n",
       "      <th>1</th>\n",
       "      <td>39</td>\n",
       "      <td>98500.0</td>\n",
       "      <td>41.489362</td>\n",
       "      <td>analyst_tools</td>\n",
       "      <td>excel</td>\n",
       "    </tr>\n",
       "    <tr>\n",
       "      <th>2</th>\n",
       "      <td>36</td>\n",
       "      <td>96050.0</td>\n",
       "      <td>38.297872</td>\n",
       "      <td>programming</td>\n",
       "      <td>python</td>\n",
       "    </tr>\n",
       "    <tr>\n",
       "      <th>3</th>\n",
       "      <td>20</td>\n",
       "      <td>108087.5</td>\n",
       "      <td>21.276596</td>\n",
       "      <td>analyst_tools</td>\n",
       "      <td>tableau</td>\n",
       "    </tr>\n",
       "    <tr>\n",
       "      <th>4</th>\n",
       "      <td>18</td>\n",
       "      <td>79200.0</td>\n",
       "      <td>19.148936</td>\n",
       "      <td>programming</td>\n",
       "      <td>r</td>\n",
       "    </tr>\n",
       "    <tr>\n",
       "      <th>...</th>\n",
       "      <td>...</td>\n",
       "      <td>...</td>\n",
       "      <td>...</td>\n",
       "      <td>...</td>\n",
       "      <td>...</td>\n",
       "    </tr>\n",
       "    <tr>\n",
       "      <th>80</th>\n",
       "      <td>1</td>\n",
       "      <td>79200.0</td>\n",
       "      <td>1.063830</td>\n",
       "      <td>sync</td>\n",
       "      <td>unify</td>\n",
       "    </tr>\n",
       "    <tr>\n",
       "      <th>81</th>\n",
       "      <td>1</td>\n",
       "      <td>105650.0</td>\n",
       "      <td>1.063830</td>\n",
       "      <td>other</td>\n",
       "      <td>unreal</td>\n",
       "    </tr>\n",
       "    <tr>\n",
       "      <th>82</th>\n",
       "      <td>1</td>\n",
       "      <td>119250.0</td>\n",
       "      <td>1.063830</td>\n",
       "      <td>analyst_tools</td>\n",
       "      <td>visio</td>\n",
       "    </tr>\n",
       "    <tr>\n",
       "      <th>83</th>\n",
       "      <td>1</td>\n",
       "      <td>79200.0</td>\n",
       "      <td>1.063830</td>\n",
       "      <td>os</td>\n",
       "      <td>windows</td>\n",
       "    </tr>\n",
       "    <tr>\n",
       "      <th>84</th>\n",
       "      <td>1</td>\n",
       "      <td>104500.0</td>\n",
       "      <td>1.063830</td>\n",
       "      <td>sync</td>\n",
       "      <td>zoom</td>\n",
       "    </tr>\n",
       "  </tbody>\n",
       "</table>\n",
       "<p>85 rows × 5 columns</p>\n",
       "</div>"
      ],
      "text/plain": [
       "    skill_count  median_salary  skill_percent     technology   skills\n",
       "0            46        96050.0      48.936170    programming      sql\n",
       "1            39        98500.0      41.489362  analyst_tools    excel\n",
       "2            36        96050.0      38.297872    programming   python\n",
       "3            20       108087.5      21.276596  analyst_tools  tableau\n",
       "4            18        79200.0      19.148936    programming        r\n",
       "..          ...            ...            ...            ...      ...\n",
       "80            1        79200.0       1.063830           sync    unify\n",
       "81            1       105650.0       1.063830          other   unreal\n",
       "82            1       119250.0       1.063830  analyst_tools    visio\n",
       "83            1        79200.0       1.063830             os  windows\n",
       "84            1       104500.0       1.063830           sync     zoom\n",
       "\n",
       "[85 rows x 5 columns]"
      ]
     },
     "execution_count": 22,
     "metadata": {},
     "output_type": "execute_result"
    }
   ],
   "source": [
    "df_DA_skills_tech = df_da_skills.merge(df_technology, left_on='job_skills', right_on='skills')\n",
    "\n",
    "df_DA_skills_tech"
   ]
  },
  {
   "cell_type": "code",
   "execution_count": 25,
   "id": "63ac10cc",
   "metadata": {},
   "outputs": [
    {
     "data": {
      "image/png": "[encoded data removed]",
      "text/plain": [
       "<Figure size 640x480 with 1 Axes>"
      ]
     },
     "metadata": {},
     "output_type": "display_data"
    }
   ],
   "source": [
    "df_DA_skills_tech_high_demand = df_DA_skills_tech[df_DA_skills_tech['skill_percent'] > skill_limit]\n",
    "\n",
    "from adjustText import adjust_text\n",
    "\n",
    "sns.scatterplot(\n",
    "    data=df_DA_skills_tech_high_demand,\n",
    "    x='skill_percent',\n",
    "    y='median_salary',\n",
    "    hue='technology'\n",
    ")\n",
    "\n",
    "sns.despine()\n",
    "sns.set_theme(style='ticks')\n",
    "\n",
    "# Prepare texts for adjustText\n",
    "texts = []\n",
    "for i, txt in enumerate(df_da_skills_high_demand.index):\n",
    "    texts.append(plt.text(df_da_skills_high_demand['skill_percent'].iloc[i], df_da_skills_high_demand['median_salary'].iloc[i], txt))\n",
    "\n",
    "# Adjust text to avoid overlap\n",
    "adjust_text(texts, arrowprops=dict(arrowstyle='->', color='gray'))\n",
    "\n",
    "# Set axis labels, title, and legend\n",
    "plt.xlabel('Percent of Data Analyst Jobs')\n",
    "plt.ylabel('Median Yearly Salary')\n",
    "plt.title('Most Optimal Skills for Data Analysts in the US')\n",
    "plt.legend(title='Technology')\n",
    "\n",
    "from matplotlib.ticker import PercentFormatter\n",
    "ax = plt.gca()\n",
    "ax.yaxis.set_major_formatter(plt.FuncFormatter(lambda y, pos: f'${int(y/1000)}K'))\n",
    "ax.xaxis.set_major_formatter(PercentFormatter(decimals=0))\n",
    "\n",
    "# Adjust layout and display plot \n",
    "plt.tight_layout()\n",
    "plt.show()\n"
   ]
  }
 ],
 "metadata": {
  "kernelspec": {
   "display_name": "python_project",
   "language": "python",
   "name": "python3"
  },
  "language_info": {
   "codemirror_mode": {
    "name": "ipython",
    "version": 3
   },
   "file_extension": ".py",
   "mimetype": "text/x-python",
   "name": "python",
   "nbconvert_exporter": "python",
   "pygments_lexer": "ipython3",
   "version": "3.11.13"
  }
 },
 "nbformat": 4,
 "nbformat_minor": 5
}
