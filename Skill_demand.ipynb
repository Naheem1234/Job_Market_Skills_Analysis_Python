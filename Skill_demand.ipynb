{
 "cells": [
  {
   "cell_type": "markdown",
   "id": "e6189349",
   "metadata": {},
   "source": [
    "## What are the most demanded skills for the top 3 most popular data roles in India?"
   ]
  },
  {
   "cell_type": "markdown",
   "id": "0f1001a9",
   "metadata": {},
   "source": [
    "### Methodology\n",
    "1. Clean-up skill column\n",
    "2. Calculate skill count based on `job_title_short`\n",
    "3. Calculate skill percentage\n",
    "4. Plot final findings Calculate skill count based on `job_title_short`\n"
   ]
  },
  {
   "cell_type": "markdown",
   "id": "4765cef3",
   "metadata": {},
   "source": [
    "### Libraries Importation"
   ]
  },
  {
   "cell_type": "code",
   "execution_count": null,
   "id": "50dd444b",
   "metadata": {},
   "outputs": [],
   "source": [
    "import ast\n",
    "import pandas as pd\n",
    "import matplotlib.pyplot as plt\n",
    "import seaborn as sns\n",
    "\n",
    "df = pd.read_csv(r'C:\\Users\\User\\Downloads\\data_jobs.csv')\n"
   ]
  },
  {
   "cell_type": "markdown",
   "id": "9789f2d3",
   "metadata": {},
   "source": [
    "### Data Cleaning"
   ]
  },
  {
   "cell_type": "code",
   "execution_count": 2,
   "id": "c62c2af7",
   "metadata": {},
   "outputs": [],
   "source": [
    "df['job_posted_date'] = pd.to_datetime(df['job_posted_date'])\n",
    "\n",
    "def to_list(skill_list):\n",
    "    if pd.notna(skill_list):\n",
    "        return ast.literal_eval(skill_list)\n",
    "    \n",
    "df['job_skills'] = df['job_skills'].apply(to_list)"
   ]
  },
  {
   "cell_type": "markdown",
   "id": "c2986b7b",
   "metadata": {},
   "source": [
    "### Filtering for India"
   ]
  },
  {
   "cell_type": "code",
   "execution_count": 3,
   "id": "e90f17cc",
   "metadata": {},
   "outputs": [],
   "source": [
    "df_india = df[df['job_country']== 'India'].copy()"
   ]
  },
  {
   "cell_type": "markdown",
   "id": "c82b7f7f",
   "metadata": {},
   "source": [
    "### Skill Count"
   ]
  },
  {
   "cell_type": "code",
   "execution_count": 4,
   "id": "01172ae6",
   "metadata": {},
   "outputs": [
    {
     "data": {
      "application/vnd.microsoft.datawrangler.viewer.v0+json": {
       "columns": [
        {
         "name": "index",
         "rawType": "int64",
         "type": "integer"
        },
        {
         "name": "job_skills",
         "rawType": "object",
         "type": "string"
        },
        {
         "name": "job_title_short",
         "rawType": "object",
         "type": "string"
        },
        {
         "name": "skill_count",
         "rawType": "int64",
         "type": "integer"
        }
       ],
       "ref": "4d4a4fcf-696f-4f14-bfe2-8f55ad9b6a38",
       "rows": [
        [
         "1374",
         "sql",
         "Data Engineer",
         "12993"
        ],
        [
         "1088",
         "python",
         "Data Engineer",
         "11568"
        ],
        [
         "1089",
         "python",
         "Data Scientist",
         "9248"
        ],
        [
         "1327",
         "spark",
         "Data Engineer",
         "7157"
        ],
        [
         "103",
         "aws",
         "Data Engineer",
         "6993"
        ],
        [
         "113",
         "azure",
         "Data Engineer",
         "6819"
        ],
        [
         "1375",
         "sql",
         "Data Scientist",
         "6367"
        ],
        [
         "1122",
         "r",
         "Data Scientist",
         "4327"
        ],
        [
         "606",
         "java",
         "Data Engineer",
         "4023"
        ],
        [
         "560",
         "hadoop",
         "Data Engineer",
         "3999"
        ],
        [
         "1229",
         "scala",
         "Data Engineer",
         "3667"
        ],
        [
         "281",
         "databricks",
         "Data Engineer",
         "3591"
        ],
        [
         "674",
         "kafka",
         "Data Engineer",
         "3477"
        ],
        [
         "1078",
         "pyspark",
         "Data Engineer",
         "3380"
        ],
        [
         "1312",
         "snowflake",
         "Data Engineer",
         "3172"
        ],
        [
         "1373",
         "sql",
         "Data Analyst",
         "3159"
        ],
        [
         "1378",
         "sql",
         "Senior Data Engineer",
         "3143"
        ],
        [
         "3",
         "airflow",
         "Data Engineer",
         "2990"
        ],
        [
         "1092",
         "python",
         "Senior Data Engineer",
         "2905"
        ],
        [
         "894",
         "nosql",
         "Data Engineer",
         "2836"
        ],
        [
         "468",
         "gcp",
         "Data Engineer",
         "2694"
        ],
        [
         "104",
         "aws",
         "Data Scientist",
         "2580"
        ],
        [
         "1162",
         "redshift",
         "Data Engineer",
         "2492"
        ],
        [
         "1459",
         "tableau",
         "Data Scientist",
         "2426"
        ],
        [
         "1328",
         "spark",
         "Data Scientist",
         "2391"
        ],
        [
         "1469",
         "tensorflow",
         "Data Scientist",
         "2375"
        ],
        [
         "1087",
         "python",
         "Data Analyst",
         "2203"
        ],
        [
         "392",
         "excel",
         "Data Analyst",
         "2117"
        ],
        [
         "806",
         "mongodb",
         "Data Engineer",
         "2112"
        ],
        [
         "114",
         "azure",
         "Data Scientist",
         "2107"
        ],
        [
         "1458",
         "tableau",
         "Data Engineer",
         "2029"
        ],
        [
         "1331",
         "spark",
         "Senior Data Engineer",
         "1993"
        ],
        [
         "107",
         "aws",
         "Senior Data Engineer",
         "1987"
        ],
        [
         "495",
         "git",
         "Data Engineer",
         "1897"
        ],
        [
         "1099",
         "pytorch",
         "Data Scientist",
         "1817"
        ],
        [
         "561",
         "hadoop",
         "Data Scientist",
         "1778"
        ],
        [
         "1093",
         "python",
         "Senior Data Scientist",
         "1776"
        ],
        [
         "1034",
         "power bi",
         "Data Engineer",
         "1741"
        ],
        [
         "1217",
         "sas",
         "Data Scientist",
         "1670"
        ],
        [
         "1457",
         "tableau",
         "Data Analyst",
         "1667"
        ],
        [
         "117",
         "azure",
         "Senior Data Engineer",
         "1625"
        ],
        [
         "1384",
         "sql server",
         "Data Engineer",
         "1623"
        ],
        [
         "948",
         "oracle",
         "Data Engineer",
         "1560"
        ],
        [
         "969",
         "pandas",
         "Data Scientist",
         "1506"
        ],
        [
         "394",
         "excel",
         "Data Scientist",
         "1459"
        ],
        [
         "446",
         "flow",
         "Data Engineer",
         "1401"
        ],
        [
         "1286",
         "shell",
         "Data Engineer",
         "1371"
        ],
        [
         "921",
         "numpy",
         "Data Scientist",
         "1348"
        ],
        [
         "607",
         "java",
         "Data Scientist",
         "1345"
        ],
        [
         "702",
         "kubernetes",
         "Data Engineer",
         "1306"
        ]
       ],
       "shape": {
        "columns": 3,
        "rows": 1689
       }
      },
      "text/html": [
       "<div>\n",
       "<style scoped>\n",
       "    .dataframe tbody tr th:only-of-type {\n",
       "        vertical-align: middle;\n",
       "    }\n",
       "\n",
       "    .dataframe tbody tr th {\n",
       "        vertical-align: top;\n",
       "    }\n",
       "\n",
       "    .dataframe thead th {\n",
       "        text-align: right;\n",
       "    }\n",
       "</style>\n",
       "<table border=\"1\" class=\"dataframe\">\n",
       "  <thead>\n",
       "    <tr style=\"text-align: right;\">\n",
       "      <th></th>\n",
       "      <th>job_skills</th>\n",
       "      <th>job_title_short</th>\n",
       "      <th>skill_count</th>\n",
       "    </tr>\n",
       "  </thead>\n",
       "  <tbody>\n",
       "    <tr>\n",
       "      <th>1374</th>\n",
       "      <td>sql</td>\n",
       "      <td>Data Engineer</td>\n",
       "      <td>12993</td>\n",
       "    </tr>\n",
       "    <tr>\n",
       "      <th>1088</th>\n",
       "      <td>python</td>\n",
       "      <td>Data Engineer</td>\n",
       "      <td>11568</td>\n",
       "    </tr>\n",
       "    <tr>\n",
       "      <th>1089</th>\n",
       "      <td>python</td>\n",
       "      <td>Data Scientist</td>\n",
       "      <td>9248</td>\n",
       "    </tr>\n",
       "    <tr>\n",
       "      <th>1327</th>\n",
       "      <td>spark</td>\n",
       "      <td>Data Engineer</td>\n",
       "      <td>7157</td>\n",
       "    </tr>\n",
       "    <tr>\n",
       "      <th>103</th>\n",
       "      <td>aws</td>\n",
       "      <td>Data Engineer</td>\n",
       "      <td>6993</td>\n",
       "    </tr>\n",
       "    <tr>\n",
       "      <th>...</th>\n",
       "      <td>...</td>\n",
       "      <td>...</td>\n",
       "      <td>...</td>\n",
       "    </tr>\n",
       "    <tr>\n",
       "      <th>940</th>\n",
       "      <td>openstack</td>\n",
       "      <td>Cloud Engineer</td>\n",
       "      <td>1</td>\n",
       "    </tr>\n",
       "    <tr>\n",
       "      <th>1685</th>\n",
       "      <td>zoom</td>\n",
       "      <td>Senior Data Analyst</td>\n",
       "      <td>1</td>\n",
       "    </tr>\n",
       "    <tr>\n",
       "      <th>10</th>\n",
       "      <td>airtable</td>\n",
       "      <td>Business Analyst</td>\n",
       "      <td>1</td>\n",
       "    </tr>\n",
       "    <tr>\n",
       "      <th>1662</th>\n",
       "      <td>workfront</td>\n",
       "      <td>Data Analyst</td>\n",
       "      <td>1</td>\n",
       "    </tr>\n",
       "    <tr>\n",
       "      <th>1649</th>\n",
       "      <td>wire</td>\n",
       "      <td>Senior Data Scientist</td>\n",
       "      <td>1</td>\n",
       "    </tr>\n",
       "  </tbody>\n",
       "</table>\n",
       "<p>1689 rows × 3 columns</p>\n",
       "</div>"
      ],
      "text/plain": [
       "     job_skills        job_title_short  skill_count\n",
       "1374        sql          Data Engineer        12993\n",
       "1088     python          Data Engineer        11568\n",
       "1089     python         Data Scientist         9248\n",
       "1327      spark          Data Engineer         7157\n",
       "103         aws          Data Engineer         6993\n",
       "...         ...                    ...          ...\n",
       "940   openstack         Cloud Engineer            1\n",
       "1685       zoom    Senior Data Analyst            1\n",
       "10     airtable       Business Analyst            1\n",
       "1662  workfront           Data Analyst            1\n",
       "1649       wire  Senior Data Scientist            1\n",
       "\n",
       "[1689 rows x 3 columns]"
      ]
     },
     "execution_count": 4,
     "metadata": {},
     "output_type": "execute_result"
    }
   ],
   "source": [
    "df_skills = df_india.explode('job_skills')\n",
    "df_skill_count = df_skills.groupby(['job_skills', 'job_title_short']).size()\n",
    "df_skill_count = df_skill_count.reset_index(name= 'skill_count')\n",
    "df_skill_count.sort_values(by= 'skill_count', ascending= False, inplace= True)\n",
    "df_skill_count"
   ]
  },
  {
   "cell_type": "markdown",
   "id": "52e91ea2",
   "metadata": {},
   "source": [
    "### Skill Percentage"
   ]
  },
  {
   "cell_type": "code",
   "execution_count": 5,
   "id": "fc3fca1a",
   "metadata": {},
   "outputs": [
    {
     "data": {
      "application/vnd.microsoft.datawrangler.viewer.v0+json": {
       "columns": [
        {
         "name": "index",
         "rawType": "int64",
         "type": "integer"
        },
        {
         "name": "job_skills",
         "rawType": "object",
         "type": "string"
        },
        {
         "name": "job_title_short",
         "rawType": "object",
         "type": "string"
        },
        {
         "name": "skill_count",
         "rawType": "int64",
         "type": "integer"
        },
        {
         "name": "total_count",
         "rawType": "int64",
         "type": "integer"
        },
        {
         "name": "skill_percentage",
         "rawType": "float64",
         "type": "float"
        }
       ],
       "ref": "a70dea79-4ec9-4b1e-829b-cca6c2070e49",
       "rows": [
        [
         "0",
         "sql",
         "Data Engineer",
         "12993",
         "128144",
         "10.139374453739542"
        ],
        [
         "1",
         "python",
         "Data Engineer",
         "11568",
         "128144",
         "9.027344237732551"
        ],
        [
         "2",
         "python",
         "Data Scientist",
         "9248",
         "70549",
         "13.108619541028222"
        ],
        [
         "3",
         "spark",
         "Data Engineer",
         "7157",
         "128144",
         "5.58512298664003"
        ],
        [
         "4",
         "aws",
         "Data Engineer",
         "6993",
         "128144",
         "5.4571419652890505"
        ],
        [
         "5",
         "azure",
         "Data Engineer",
         "6819",
         "128144",
         "5.321357223123986"
        ],
        [
         "6",
         "sql",
         "Data Scientist",
         "6367",
         "70549",
         "9.024933025273214"
        ],
        [
         "7",
         "r",
         "Data Scientist",
         "4327",
         "70549",
         "6.133325773575812"
        ],
        [
         "8",
         "java",
         "Data Engineer",
         "4023",
         "128144",
         "3.1394368835060553"
        ],
        [
         "9",
         "hadoop",
         "Data Engineer",
         "3999",
         "128144",
         "3.120707953552254"
        ],
        [
         "10",
         "scala",
         "Data Engineer",
         "3667",
         "128144",
         "2.8616244225246596"
        ],
        [
         "11",
         "databricks",
         "Data Engineer",
         "3591",
         "128144",
         "2.8023161443376203"
        ],
        [
         "12",
         "kafka",
         "Data Engineer",
         "3477",
         "128144",
         "2.7133537270570605"
        ],
        [
         "13",
         "pyspark",
         "Data Engineer",
         "3380",
         "128144",
         "2.6376576351604446"
        ],
        [
         "14",
         "snowflake",
         "Data Engineer",
         "3172",
         "128144",
         "2.475340242227494"
        ],
        [
         "15",
         "sql",
         "Data Analyst",
         "3159",
         "23525",
         "13.42826780021254"
        ],
        [
         "16",
         "sql",
         "Senior Data Engineer",
         "3143",
         "33249",
         "9.452915877169238"
        ],
        [
         "17",
         "airflow",
         "Data Engineer",
         "2990",
         "128144",
         "2.3333125234111627"
        ],
        [
         "18",
         "python",
         "Senior Data Engineer",
         "2905",
         "33249",
         "8.737104875334596"
        ],
        [
         "19",
         "nosql",
         "Data Engineer",
         "2836",
         "128144",
         "2.2131352228742665"
        ],
        [
         "20",
         "gcp",
         "Data Engineer",
         "2694",
         "128144",
         "2.1023223873142713"
        ],
        [
         "21",
         "aws",
         "Data Scientist",
         "2580",
         "70549",
         "3.6570327006761256"
        ],
        [
         "22",
         "redshift",
         "Data Engineer",
         "2492",
         "128144",
         "1.9446872268697715"
        ],
        [
         "23",
         "tableau",
         "Data Scientist",
         "2426",
         "70549",
         "3.438744702263675"
        ],
        [
         "24",
         "spark",
         "Data Scientist",
         "2391",
         "70549",
         "3.389133793533573"
        ],
        [
         "25",
         "tensorflow",
         "Data Scientist",
         "2375",
         "70549",
         "3.3664545209712395"
        ],
        [
         "26",
         "python",
         "Data Analyst",
         "2203",
         "23525",
         "9.36450584484591"
        ],
        [
         "27",
         "excel",
         "Data Analyst",
         "2117",
         "23525",
         "8.99893730074389"
        ],
        [
         "28",
         "mongodb",
         "Data Engineer",
         "2112",
         "128144",
         "1.6481458359345735"
        ],
        [
         "29",
         "azure",
         "Data Scientist",
         "2107",
         "70549",
         "2.9865767055521695"
        ],
        [
         "30",
         "tableau",
         "Data Engineer",
         "2029",
         "128144",
         "1.5833749531776753"
        ],
        [
         "31",
         "spark",
         "Senior Data Engineer",
         "1993",
         "33249",
         "5.994165238052272"
        ],
        [
         "32",
         "aws",
         "Senior Data Engineer",
         "1987",
         "33249",
         "5.976119582543836"
        ],
        [
         "33",
         "git",
         "Data Engineer",
         "1897",
         "128144",
         "1.4803658384317642"
        ],
        [
         "34",
         "pytorch",
         "Data Scientist",
         "1817",
         "70549",
         "2.5755148903598917"
        ],
        [
         "35",
         "hadoop",
         "Data Scientist",
         "1778",
         "70549",
         "2.520234163489206"
        ],
        [
         "36",
         "python",
         "Senior Data Scientist",
         "1776",
         "13920",
         "12.758620689655173"
        ],
        [
         "37",
         "power bi",
         "Data Engineer",
         "1741",
         "128144",
         "1.3586277937320514"
        ],
        [
         "38",
         "sas",
         "Data Scientist",
         "1670",
         "70549",
         "2.3671490736934615"
        ],
        [
         "39",
         "tableau",
         "Data Analyst",
         "1667",
         "23525",
         "7.086078639744953"
        ],
        [
         "40",
         "azure",
         "Senior Data Engineer",
         "1625",
         "33249",
         "4.887365033534843"
        ],
        [
         "41",
         "sql server",
         "Data Engineer",
         "1623",
         "128144",
         "1.2665438881258584"
        ],
        [
         "42",
         "oracle",
         "Data Engineer",
         "1560",
         "128144",
         "1.2173804469971283"
        ],
        [
         "43",
         "pandas",
         "Data Scientist",
         "1506",
         "70549",
         "2.1346865299295525"
        ],
        [
         "44",
         "excel",
         "Data Scientist",
         "1459",
         "70549",
         "2.0680661667777005"
        ],
        [
         "45",
         "flow",
         "Data Engineer",
         "1401",
         "128144",
         "1.09330128605319"
        ],
        [
         "46",
         "shell",
         "Data Engineer",
         "1371",
         "128144",
         "1.0698901236109377"
        ],
        [
         "47",
         "numpy",
         "Data Scientist",
         "1348",
         "70549",
         "1.9107287133765183"
        ],
        [
         "48",
         "java",
         "Data Scientist",
         "1345",
         "70549",
         "1.9064763497710813"
        ],
        [
         "49",
         "kubernetes",
         "Data Engineer",
         "1306",
         "128144",
         "1.0191659383193907"
        ]
       ],
       "shape": {
        "columns": 5,
        "rows": 1689
       }
      },
      "text/html": [
       "<div>\n",
       "<style scoped>\n",
       "    .dataframe tbody tr th:only-of-type {\n",
       "        vertical-align: middle;\n",
       "    }\n",
       "\n",
       "    .dataframe tbody tr th {\n",
       "        vertical-align: top;\n",
       "    }\n",
       "\n",
       "    .dataframe thead th {\n",
       "        text-align: right;\n",
       "    }\n",
       "</style>\n",
       "<table border=\"1\" class=\"dataframe\">\n",
       "  <thead>\n",
       "    <tr style=\"text-align: right;\">\n",
       "      <th></th>\n",
       "      <th>job_skills</th>\n",
       "      <th>job_title_short</th>\n",
       "      <th>skill_count</th>\n",
       "      <th>total_count</th>\n",
       "      <th>skill_percentage</th>\n",
       "    </tr>\n",
       "  </thead>\n",
       "  <tbody>\n",
       "    <tr>\n",
       "      <th>0</th>\n",
       "      <td>sql</td>\n",
       "      <td>Data Engineer</td>\n",
       "      <td>12993</td>\n",
       "      <td>128144</td>\n",
       "      <td>10.139374</td>\n",
       "    </tr>\n",
       "    <tr>\n",
       "      <th>1</th>\n",
       "      <td>python</td>\n",
       "      <td>Data Engineer</td>\n",
       "      <td>11568</td>\n",
       "      <td>128144</td>\n",
       "      <td>9.027344</td>\n",
       "    </tr>\n",
       "    <tr>\n",
       "      <th>2</th>\n",
       "      <td>python</td>\n",
       "      <td>Data Scientist</td>\n",
       "      <td>9248</td>\n",
       "      <td>70549</td>\n",
       "      <td>13.108620</td>\n",
       "    </tr>\n",
       "    <tr>\n",
       "      <th>3</th>\n",
       "      <td>spark</td>\n",
       "      <td>Data Engineer</td>\n",
       "      <td>7157</td>\n",
       "      <td>128144</td>\n",
       "      <td>5.585123</td>\n",
       "    </tr>\n",
       "    <tr>\n",
       "      <th>4</th>\n",
       "      <td>aws</td>\n",
       "      <td>Data Engineer</td>\n",
       "      <td>6993</td>\n",
       "      <td>128144</td>\n",
       "      <td>5.457142</td>\n",
       "    </tr>\n",
       "    <tr>\n",
       "      <th>...</th>\n",
       "      <td>...</td>\n",
       "      <td>...</td>\n",
       "      <td>...</td>\n",
       "      <td>...</td>\n",
       "      <td>...</td>\n",
       "    </tr>\n",
       "    <tr>\n",
       "      <th>1684</th>\n",
       "      <td>openstack</td>\n",
       "      <td>Cloud Engineer</td>\n",
       "      <td>1</td>\n",
       "      <td>1877</td>\n",
       "      <td>0.053277</td>\n",
       "    </tr>\n",
       "    <tr>\n",
       "      <th>1685</th>\n",
       "      <td>zoom</td>\n",
       "      <td>Senior Data Analyst</td>\n",
       "      <td>1</td>\n",
       "      <td>4916</td>\n",
       "      <td>0.020342</td>\n",
       "    </tr>\n",
       "    <tr>\n",
       "      <th>1686</th>\n",
       "      <td>airtable</td>\n",
       "      <td>Business Analyst</td>\n",
       "      <td>1</td>\n",
       "      <td>6292</td>\n",
       "      <td>0.015893</td>\n",
       "    </tr>\n",
       "    <tr>\n",
       "      <th>1687</th>\n",
       "      <td>workfront</td>\n",
       "      <td>Data Analyst</td>\n",
       "      <td>1</td>\n",
       "      <td>23525</td>\n",
       "      <td>0.004251</td>\n",
       "    </tr>\n",
       "    <tr>\n",
       "      <th>1688</th>\n",
       "      <td>wire</td>\n",
       "      <td>Senior Data Scientist</td>\n",
       "      <td>1</td>\n",
       "      <td>13920</td>\n",
       "      <td>0.007184</td>\n",
       "    </tr>\n",
       "  </tbody>\n",
       "</table>\n",
       "<p>1689 rows × 5 columns</p>\n",
       "</div>"
      ],
      "text/plain": [
       "     job_skills        job_title_short  skill_count  total_count  \\\n",
       "0           sql          Data Engineer        12993       128144   \n",
       "1        python          Data Engineer        11568       128144   \n",
       "2        python         Data Scientist         9248        70549   \n",
       "3         spark          Data Engineer         7157       128144   \n",
       "4           aws          Data Engineer         6993       128144   \n",
       "...         ...                    ...          ...          ...   \n",
       "1684  openstack         Cloud Engineer            1         1877   \n",
       "1685       zoom    Senior Data Analyst            1         4916   \n",
       "1686   airtable       Business Analyst            1         6292   \n",
       "1687  workfront           Data Analyst            1        23525   \n",
       "1688       wire  Senior Data Scientist            1        13920   \n",
       "\n",
       "      skill_percentage  \n",
       "0            10.139374  \n",
       "1             9.027344  \n",
       "2            13.108620  \n",
       "3             5.585123  \n",
       "4             5.457142  \n",
       "...                ...  \n",
       "1684          0.053277  \n",
       "1685          0.020342  \n",
       "1686          0.015893  \n",
       "1687          0.004251  \n",
       "1688          0.007184  \n",
       "\n",
       "[1689 rows x 5 columns]"
      ]
     },
     "execution_count": 5,
     "metadata": {},
     "output_type": "execute_result"
    }
   ],
   "source": [
    "df_skills_job = df_skills.groupby('job_title_short').size().reset_index(name= 'total_count')\n",
    "df_skill_percent = df_skill_count.merge(right= df_skills_job, on= 'job_title_short', how= 'left')\n",
    "df_skill_percent['skill_percentage'] = (df_skill_percent['skill_count']/df_skill_percent['total_count'])*100\n",
    "df_skill_percent\n"
   ]
  },
  {
   "cell_type": "markdown",
   "id": "1578fcb1",
   "metadata": {},
   "source": [
    "### Skill count percentage plot for the top 3 roles in India"
   ]
  },
  {
   "cell_type": "code",
   "execution_count": 7,
   "id": "3cb60104",
   "metadata": {},
   "outputs": [
    {
     "data": {
      "image/png": "[encoded data removed]",
      "text/plain": [
       "<Figure size 640x480 with 3 Axes>"
      ]
     },
     "metadata": {},
     "output_type": "display_data"
    }
   ],
   "source": [
    "# top 3 roles in india\n",
    "job_titles = df_skill_count['job_title_short'].unique().tolist()\n",
    "job_titles = job_titles[:3]\n",
    "\n",
    "fig, ax = plt.subplots(len(job_titles), 1)\n",
    "\n",
    "for i, job_title in enumerate(job_titles):\n",
    "    df_plot = df_skill_percent[df_skill_percent['job_title_short'] == job_title].head(5)\n",
    "    sns.barplot(data=df_plot, x='skill_percentage', y='job_skills', ax=ax[i], hue='skill_count', palette='dark:b_r')\n",
    "    ax[i].set_title(job_title)\n",
    "    ax[i].set_ylabel('')\n",
    "    ax[i].set_xlabel('')\n",
    "    ax[i].get_legend().remove()\n",
    "    ax[i].set_xlim(0, 15)\n",
    "    # remove the x-axis tick labels for better readability\n",
    "    if i != len(job_titles) - 1:\n",
    "        ax[i].set_xticks([])\n",
    "\n",
    "    # label the percentage on the bars\n",
    "    for n, v in enumerate(df_plot['skill_percentage']):\n",
    "        ax[i].text(v + .5, n, f'{v:.0f}%', va='center')\n",
    "\n",
    "fig.suptitle('Likelihood of Skills Requested in India Job Postings', fontsize=15)\n",
    "fig.tight_layout(h_pad=.8)\n",
    "plt.show()"
   ]
  }
 ],
 "metadata": {
  "kernelspec": {
   "display_name": "python_project",
   "language": "python",
   "name": "python3"
  },
  "language_info": {
   "codemirror_mode": {
    "name": "ipython",
    "version": 3
   },
   "file_extension": ".py",
   "mimetype": "text/x-python",
   "name": "python",
   "nbconvert_exporter": "python",
   "pygments_lexer": "ipython3",
   "version": "3.11.13"
  }
 },
 "nbformat": 4,
 "nbformat_minor": 5
}
